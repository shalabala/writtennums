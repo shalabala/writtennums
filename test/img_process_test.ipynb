{
 "cells": [
  {
   "cell_type": "code",
   "execution_count": 1,
   "metadata": {},
   "outputs": [],
   "source": [
    "import sys\n",
    "import os\n",
    "\n",
    "# Add the parent directory to the system path\n",
    "sys.path.append(os.path.abspath(\"..\"))"
   ]
  },
  {
   "cell_type": "code",
   "execution_count": 2,
   "metadata": {},
   "outputs": [],
   "source": [
    "import cv2"
   ]
  },
  {
   "cell_type": "code",
   "execution_count": 3,
   "metadata": {},
   "outputs": [],
   "source": [
    "import numpy as np"
   ]
  },
  {
   "cell_type": "code",
   "execution_count": 4,
   "metadata": {},
   "outputs": [],
   "source": [
    "img = cv2.imread(\"./test_imgs/4.jpeg\")\n",
    "def show(image, timeout = 5000):\n",
    "    cv2.namedWindow(\"myimg\", cv2.WINDOW_NORMAL)\n",
    "    cv2.resizeWindow(\"myimg\", 640, 480)\n",
    "    cv2.imshow('myimg', image)\n",
    "\n",
    "    cv2.waitKey(timeout)\n",
    "\n",
    "    cv2.destroyAllWindows()"
   ]
  },
  {
   "cell_type": "code",
   "execution_count": 5,
   "metadata": {},
   "outputs": [],
   "source": [
    "#show(img, 30000)"
   ]
  },
  {
   "cell_type": "code",
   "execution_count": 6,
   "metadata": {},
   "outputs": [],
   "source": [
    "img_blue = img[:,:,0]\n",
    "img_green = img[:,:,1]\n",
    "img_red = img[:,:,2]\n",
    "\n",
    "# show(img_red, 5000)\n",
    "# show(img_green, 5000)\n",
    "# show(img_blue, 5000)"
   ]
  },
  {
   "cell_type": "code",
   "execution_count": 7,
   "metadata": {},
   "outputs": [],
   "source": [
    "black_and_white = np.zeros((img.shape[0], img.shape[1]), dtype=np.uint8)\n",
    "black_and_white[(img_blue >img_red+10) & (img_blue > img_green+10)] = 255\n",
    "\n",
    "#show(black_and_white, 5000)\n"
   ]
  },
  {
   "cell_type": "code",
   "execution_count": 8,
   "metadata": {},
   "outputs": [
    {
     "data": {
      "text/plain": [
       "False"
      ]
     },
     "execution_count": 8,
     "metadata": {},
     "output_type": "execute_result"
    }
   ],
   "source": [
    "True ^ True ^ False\n"
   ]
  },
  {
   "cell_type": "code",
   "execution_count": 9,
   "metadata": {},
   "outputs": [],
   "source": [
    "from process import make_black_and_white\n",
    "\n",
    "bnw=make_black_and_white(img, 5,5,-1)"
   ]
  },
  {
   "cell_type": "code",
   "execution_count": 10,
   "metadata": {},
   "outputs": [],
   "source": [
    "#show(bnw, 5000)\n"
   ]
  },
  {
   "cell_type": "code",
   "execution_count": 11,
   "metadata": {},
   "outputs": [],
   "source": [
    "contours, h = cv2.findContours(bnw, cv2.RETR_TREE, cv2.CHAIN_APPROX_SIMPLE)\n",
    "\n",
    "biggest_index = max(enumerate(contours), key=lambda x: cv2.contourArea(x[1]))[0]\n",
    "\n",
    "biggest = contours[biggest_index]\n",
    "\n",
    "canvas = np.zeros((img.shape[0], img.shape[1]), dtype=np.uint8)\n",
    "\n",
    "cv2.drawContours(canvas, [biggest], -1, (255), -1)\n",
    "\n",
    "hole = h[0, biggest_index,2]\n",
    "while hole > 0:\n",
    "    cv2.drawContours(canvas, [contours[hole]], -1, (0), -1)\n",
    "    hole = h[0,hole,0]\n",
    "\n",
    "\n",
    "#show(canvas)"
   ]
  },
  {
   "cell_type": "code",
   "execution_count": 12,
   "metadata": {},
   "outputs": [],
   "source": [
    "from process import find_biggest_obj\n",
    "from process import resize_and_padd"
   ]
  },
  {
   "cell_type": "code",
   "execution_count": 14,
   "metadata": {},
   "outputs": [],
   "source": [
    "bo= find_biggest_obj(bnw)\n",
    "show(bo, 5000)\n",
    "bo = resize_and_padd(bo, 28, 28)\n",
    "show(bo, 5000)"
   ]
  }
 ],
 "metadata": {
  "kernelspec": {
   "display_name": "myenv",
   "language": "python",
   "name": "python3"
  },
  "language_info": {
   "codemirror_mode": {
    "name": "ipython",
    "version": 3
   },
   "file_extension": ".py",
   "mimetype": "text/x-python",
   "name": "python",
   "nbconvert_exporter": "python",
   "pygments_lexer": "ipython3",
   "version": "3.10.15"
  }
 },
 "nbformat": 4,
 "nbformat_minor": 2
}
